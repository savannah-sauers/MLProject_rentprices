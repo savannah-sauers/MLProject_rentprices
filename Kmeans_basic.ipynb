{
 "cells": [
  {
   "cell_type": "code",
   "execution_count": 87,
   "id": "bc5902e7-1c4e-4b3b-9460-e67cdfc8d832",
   "metadata": {},
   "outputs": [],
   "source": [
    "import pandas as pd\n",
    "from sklearn.cluster import KMeans\n",
    "from sklearn.preprocessing import StandardScaler"
   ]
  },
  {
   "cell_type": "code",
   "execution_count": 88,
   "id": "7c25ff19-8f1b-453d-b514-0be93bd8b289",
   "metadata": {},
   "outputs": [],
   "source": [
    "df = pd.read_csv('MedianGrossRent_final.csv')\n",
    "df = df.dropna()"
   ]
  },
  {
   "cell_type": "code",
   "execution_count": 89,
   "id": "ef690897-814c-4b76-95b1-94bf4f8d4d74",
   "metadata": {},
   "outputs": [],
   "source": [
    "scaler = StandardScaler()\n",
    "df_scaled = scaler.fit_transform(df)"
   ]
  },
  {
   "cell_type": "code",
   "execution_count": 90,
   "id": "ca4c2feb-33db-4d24-aa57-33fc12b941ac",
   "metadata": {},
   "outputs": [],
   "source": [
    "kmeans = KMeans(n_clusters=4)"
   ]
  },
  {
   "cell_type": "code",
   "execution_count": 91,
   "id": "d1879241-2e70-4c04-9fde-917d09ce1bc6",
   "metadata": {},
   "outputs": [
    {
     "data": {
      "text/plain": [
       "KMeans(n_clusters=4)"
      ]
     },
     "execution_count": 91,
     "metadata": {},
     "output_type": "execute_result"
    }
   ],
   "source": [
    "kmeans.fit(df_scaled)"
   ]
  },
  {
   "cell_type": "code",
   "execution_count": 92,
   "id": "8b389a59-7cc2-433e-abda-8090ab278429",
   "metadata": {},
   "outputs": [
    {
     "name": "stdout",
     "output_type": "stream",
     "text": [
      "[[-1.19387309  0.74293934  1.08463016 -0.40724481 -0.73788133  0.93965956\n",
      "   0.75557032 -0.49602995]\n",
      " [ 0.79640959 -1.00089433 -1.08958966  0.85521215  1.23102027 -1.32826518\n",
      "  -1.17636978  0.89779838]\n",
      " [ 0.4433307   0.74093596  0.38356756 -0.87626587 -0.65504941  0.77804943\n",
      "   0.68848753 -0.90647025]\n",
      " [-0.38118717 -0.36030919 -0.15047252  0.37128813 -0.07892825 -0.1636039\n",
      "  -0.06020821  0.44753969]]\n"
     ]
    }
   ],
   "source": [
    "print(kmeans.cluster_centers_)"
   ]
  },
  {
   "cell_type": "code",
   "execution_count": 93,
   "id": "430efd9e-e9b9-4481-b3de-24fc66d561ba",
   "metadata": {},
   "outputs": [],
   "source": [
    "predictions = kmeans.predict(df_scaled)"
   ]
  },
  {
   "cell_type": "code",
   "execution_count": 94,
   "id": "34d4c60c-ff7a-42b0-8ae1-f251e43d20c2",
   "metadata": {},
   "outputs": [
    {
     "name": "stdout",
     "output_type": "stream",
     "text": [
      "[0 0 0 0 0 0 0 0 0 0 0 0 0 0 0 0 0 0 0 0 0 0 0 0 0 0 0 0 3 3 1 3 3 3 0 3 3\n",
      " 3 3 3 3 3 3 3 3 0 3 3 3 3 3 0 3 3 3 0 0 3 3 3 2 3 0 0 0 0 0 0 0 0 2 0 0 0\n",
      " 3 2 2 1 2 2 2 0 0 2 3 2 2 2 2 2 2 2 2 2 2 2 2 1 2 2 2 2 2 2 2 3 2 2 2 2 1\n",
      " 1 1 1 1 1 1 1 1 1 1 1 3 1 1 1 1 1 1 1 1 1 1 1 1 1 3 2 2 2 2 2 2 2 2 2 3 1\n",
      " 1 1 3 1 1 1 2 3 1 2 2 3 3 3 3 1 1 3 1 1 1 1 1 1 1 1 1 1 1 1 1 3 1 1 1 1 1\n",
      " 1 2 2 2 3 1 2 2 2 2 2 2 1 2 2 1]\n"
     ]
    }
   ],
   "source": [
    "print(predictions)"
   ]
  },
  {
   "cell_type": "code",
   "execution_count": 95,
   "id": "561d13a6-1d2c-40a7-8e8a-435f8d96835f",
   "metadata": {},
   "outputs": [],
   "source": [
    "#Train_Test"
   ]
  },
  {
   "cell_type": "code",
   "execution_count": 97,
   "id": "d0550a98-f2d5-4fc6-8e80-dc784739087d",
   "metadata": {},
   "outputs": [
    {
     "name": "stdout",
     "output_type": "stream",
     "text": [
      "Silhouette score: 0.23577822367660445\n",
      "Calinski-Harabasz score: 117.68845211981393\n",
      "Davies-Bouldin score: 1.4434004276446113\n"
     ]
    }
   ],
   "source": [
    "# import the necessary libraries\n",
    "from sklearn import metrics\n",
    "\n",
    "# compute the silhouette score to evaluate the model\n",
    "silhouette_score = metrics.silhouette_score(df_scaled, predictions)\n",
    "print('Silhouette score:', silhouette_score)\n",
    "\n",
    "# compute the Calinski-Harabasz index to evaluate the model\n",
    "calinski_harabasz_score = metrics.calinski_harabasz_score(df_scaled, predictions)\n",
    "print('Calinski-Harabasz score:', calinski_harabasz_score)\n",
    "\n",
    "# compute the Davies-Bouldin index to evaluate the model\n",
    "davies_bouldin_score = metrics.davies_bouldin_score(df_scaled, predictions)\n",
    "print('Davies-Bouldin score:', davies_bouldin_score)\n"
   ]
  },
  {
   "cell_type": "code",
   "execution_count": null,
   "id": "1d830aeb-cddf-4b42-936c-f03f414f3d6b",
   "metadata": {},
   "outputs": [],
   "source": []
  }
 ],
 "metadata": {
  "kernelspec": {
   "display_name": "Python 3 (ipykernel)",
   "language": "python",
   "name": "python3"
  },
  "language_info": {
   "codemirror_mode": {
    "name": "ipython",
    "version": 3
   },
   "file_extension": ".py",
   "mimetype": "text/x-python",
   "name": "python",
   "nbconvert_exporter": "python",
   "pygments_lexer": "ipython3",
   "version": "3.9.12"
  }
 },
 "nbformat": 4,
 "nbformat_minor": 5
}
